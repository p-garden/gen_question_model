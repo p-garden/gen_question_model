{
 "cells": [
  {
   "cell_type": "markdown",
   "id": "4c0f9964-65eb-41c5-8c81-29580b876e25",
   "metadata": {},
   "source": [
    "- T5모델 (Text-to-Text Transfer Transformer)\n",
    "    - 입력텍스트, 태스크정의 를 입력하면 태스크에 맞게 입력텍스트로부터 동작을 수행\n",
    "    - 문제 생성, 오답선지 생성, 정답찾기등 다양한 태스크를 하나의 모델로 구축 가능\n",
    "\n",
    "입력 데이터 형식(텍스트 데이터 처리 결과):\n",
    "\n",
    " JSON형식으로 텍스트, 문장, 키워드등을 포함한 데이터 형식으로 입력받기\n",
    "\n",
    "출력 데이터 형식: \n",
    "\n",
    "출제된 문제와 자료토대로한 정답\n",
    "\n",
    "### **사전 학습된 모델 활용 + Few-shot Learning 전략**\n",
    "\n",
    "T5모델을 사용 (다양한 태스크를 하나의 모델로 통일)\n",
    "\n",
    "```json\n",
    "Task: [수행할 작업] Input: [처리할 텍스트]\n",
    "\t[작업]\n",
    "\t\"generate question:\" → 주어진 텍스트에서 질문 생성.\n",
    "\t\"summarize:\" → 텍스트 요약.\n",
    "\t\"translate English to French:\" → 영어 텍스트를 프랑스어로 번역.\n",
    "\t\"extract answer:\" → 지문에서 질문에 대한 정답 추출.\n",
    "\n",
    "```\n",
    "\n",
    "→이미 사전학습된 모델임 / 토큰화등 데이터 전처리 필요X (일반적인 전처리는 T5모델 내부에서 실행 특수문자 제거, 슬라이싱, 도메인특화 등등 특수한 전처리만 실행)\n",
    "\n",
    "초기 모델링시 몇개의 PDf파일로 FineTuning\n",
    "\n",
    "```json\n",
    "{\n",
    "  \"input\": \"generate question: The Eiffel Tower was completed in 1889.\",\n",
    "  \"output\": \"When was the Eiffel Tower completed?\"\n",
    "}\n",
    "```"
   ]
  },
  {
   "cell_type": "markdown",
   "id": "5ea6baa9-00e0-491c-8d82-8aede8999379",
   "metadata": {},
   "source": [
    "KOBART모델 \n",
    "1. 한국어 사전학습 모델을 사용하자\r\n",
    "2. context에서 n개의 키워드를 뽑아내자\r\n",
    "3. n개의 키워드를 정답으로하는 문제를 출제하자\r\n",
    "\r\n",
    "```jsx\r\n",
    "입력:\r\n",
    "context: 서울은 대한민국의 수도로, 정치와 경제의 중심지이다.\r\n",
    "keywords: [\"서울\", \"대한민국\"]\r\n",
    "\r\n",
    "출력:\r\n",
    "1. 문제: 대한민국의 수도는 어디인가요?\r\n",
    "   정답: 서울\r\n",
    "2. 문제: 서울은 어느 나라의 수도인가요?\r\n",
    "   정답: 대한민국\r\n",
    "-> 위와같은 결과를\n",
    "질문 생성에 특화된 `Sehong/kobart-QuestionGeneration` 사용 내는 모델링 하기\r\n",
    "```"
   ]
  },
  {
   "cell_type": "markdown",
   "id": "8f3bbe05-0129-490f-bb37-0d6ec2452066",
   "metadata": {},
   "source": [
    "# 1. 환경 설정"
   ]
  },
  {
   "cell_type": "markdown",
   "id": "f7d442f1-b0ec-49f1-bfcb-43c4fa8954da",
   "metadata": {},
   "source": [
    "가상환경을 통한 환경설정  \n",
    "    cd C:\\Users\\j2982\\gen_qustion_env\r",
    "    Scripts\\activate  "
   ]
  },
  {
   "cell_type": "code",
   "execution_count": 1,
   "id": "f050b345-7382-4b7e-af7b-282ccd29e4bc",
   "metadata": {},
   "outputs": [],
   "source": [
    "#pip install transformers datasets"
   ]
  },
  {
   "cell_type": "code",
   "execution_count": 2,
   "id": "e0a2ed12-00f7-494f-b4ec-a6466a1aa951",
   "metadata": {},
   "outputs": [],
   "source": [
    "#pip install transformers torch"
   ]
  },
  {
   "cell_type": "code",
   "execution_count": 1,
   "id": "e78c2fef-e38b-4c64-91ee-b88ad388a783",
   "metadata": {},
   "outputs": [
    {
     "name": "stderr",
     "output_type": "stream",
     "text": [
      "C:\\WINDOWS\\system32\\gen_que_env\\Lib\\site-packages\\tqdm\\auto.py:21: TqdmWarning: IProgress not found. Please update jupyter and ipywidgets. See https://ipywidgets.readthedocs.io/en/stable/user_install.html\n",
      "  from .autonotebook import tqdm as notebook_tqdm\n"
     ]
    }
   ],
   "source": [
    "import torch\n",
    "from transformers import T5TokenizerFast, T5ForConditionalGeneration"
   ]
  },
  {
   "cell_type": "code",
   "execution_count": 6,
   "id": "2dfc671b-ce02-42f1-afa9-88461420e9f9",
   "metadata": {},
   "outputs": [],
   "source": [
    "from transformers import BartForConditionalGeneration, AutoTokenizer\n"
   ]
  },
  {
   "cell_type": "markdown",
   "id": "5fb42328-7eea-48dd-a6cb-7e950bad3434",
   "metadata": {},
   "source": [
    "# 2. 모델, 토크나이저 준비"
   ]
  },
  {
   "cell_type": "code",
   "execution_count": 3,
   "id": "e5cfcc80-d3b7-471d-ae3d-8441d3c37209",
   "metadata": {},
   "outputs": [
    {
     "data": {
      "text/plain": [
       "device(type='cpu')"
      ]
     },
     "execution_count": 3,
     "metadata": {},
     "output_type": "execute_result"
    }
   ],
   "source": [
    "device = torch.device(\"cuda:0\" if torch.cuda.is_available() else \"cpu\")\n",
    "device"
   ]
  },
  {
   "cell_type": "code",
   "execution_count": 61,
   "id": "be5171b5-2c5e-46a0-90d8-3de2f5c6a844",
   "metadata": {},
   "outputs": [
    {
     "name": "stderr",
     "output_type": "stream",
     "text": [
      "You passed along `num_labels=3` with an incompatible id to label map: {'0': 'NEGATIVE', '1': 'POSITIVE'}. The number of labels wil be overwritten to 2.\n"
     ]
    }
   ],
   "source": [
    "model_name = \"Sehong/kobart-QuestionGeneration\"\n",
    "tokenizer = AutoTokenizer.from_pretrained(model_name) \n",
    "model = BartForConditionalGeneration.from_pretrained(model_name)"
   ]
  },
  {
   "cell_type": "code",
   "execution_count": 75,
   "id": "6c6e5006-c539-49f8-8e31-dda65a5d5a95",
   "metadata": {},
   "outputs": [
    {
     "data": {
      "text/plain": [
       "BartScaledWordEmbedding(30002, 768, padding_idx=3)"
      ]
     },
     "execution_count": 75,
     "metadata": {},
     "output_type": "execute_result"
    }
   ],
   "source": [
    "# 특별 토큰 추가\n",
    "tokenizer.add_special_tokens({\"additional_special_tokens\": [\"<context>\", \"<keyword>\"]})\n",
    "model.resize_token_embeddings(len(tokenizer))\n"
   ]
  },
  {
   "cell_type": "markdown",
   "id": "12225819-ed59-4d61-b657-81ae24dd152f",
   "metadata": {},
   "source": [
    "# 3. 데이터준비(Fiine Tuning)"
   ]
  },
  {
   "cell_type": "code",
   "execution_count": 6,
   "id": "e27cfd05-08f3-4c1f-b4af-b3fb668afeb6",
   "metadata": {},
   "outputs": [],
   "source": [
    "#pip install sentencepiece"
   ]
  },
  {
   "cell_type": "code",
   "execution_count": 7,
   "id": "8029e7b9-1773-4240-84fa-4fab21c02b63",
   "metadata": {},
   "outputs": [],
   "source": [
    "#pip install --upgrade accelerate"
   ]
  },
  {
   "cell_type": "code",
   "execution_count": 8,
   "id": "afefcd1c-b5ee-4817-a311-12db3c4bd1cb",
   "metadata": {},
   "outputs": [],
   "source": [
    "#!pip install accelerate==0.30.0"
   ]
  },
  {
   "cell_type": "code",
   "execution_count": 8,
   "id": "60623638-9900-4d15-8b71-4f50def3ff64",
   "metadata": {},
   "outputs": [
    {
     "name": "stdout",
     "output_type": "stream",
     "text": [
      "0.27.2\n"
     ]
    }
   ],
   "source": [
    "import accelerate\n",
    "print(accelerate.__version__)"
   ]
  },
  {
   "cell_type": "code",
   "execution_count": 9,
   "id": "994c997e-cfed-4174-b417-3c3395722aab",
   "metadata": {},
   "outputs": [],
   "source": [
    "#pip install --upgrade transformers accelerate\n"
   ]
  },
  {
   "cell_type": "markdown",
   "id": "b6c75dfa-343f-4834-b43a-35273f6b94fe",
   "metadata": {},
   "source": [
    "HuggingFace 코르쿼드(korQuad) 데이터셋 <PDF자료로 대체?>"
   ]
  },
  {
   "cell_type": "code",
   "execution_count": 21,
   "id": "b8f69c74-75a1-4a00-9330-6481f1b8e1ec",
   "metadata": {},
   "outputs": [],
   "source": [
    "from datasets import load_dataset\n",
    "#train 60407개 val 5774개\n",
    "dataset = load_dataset(\"KorQuAD/squad_kor_v1\") #한국어 텍스트 데이터셋 지문,질문,답변으로 구성되어있음  \n",
    "train_sampled = dataset['train'] # 처음 10000개 샘플 선택\n",
    "validation_sampled = dataset['validation'].select(range(1000))  # 처음 1000개 샘플 선택"
   ]
  },
  {
   "cell_type": "code",
   "execution_count": 74,
   "id": "ba52e89e-dabf-468e-9a60-021ff9937915",
   "metadata": {},
   "outputs": [
    {
     "name": "stdout",
     "output_type": "stream",
     "text": [
      "10000\n"
     ]
    }
   ],
   "source": [
    "print(train_sampled.num_rows)"
   ]
  },
  {
   "cell_type": "code",
   "execution_count": 31,
   "id": "ac1723fb-2770-4849-8cd3-6fd1fa60f390",
   "metadata": {},
   "outputs": [
    {
     "name": "stderr",
     "output_type": "stream",
     "text": [
      "Map: 100%|█████████████████████████████████████████████████████████████| 60407/60407 [00:02<00:00, 22204.79 examples/s]\n"
     ]
    }
   ],
   "source": [
    "def preprocess_korquad_for_question_generation(examples):\n",
    "    inputs = []\n",
    "    targets = []\n",
    "\n",
    "    for context, question, answers in zip(examples[\"context\"], examples[\"question\"], examples[\"answers\"]):\n",
    "        for answer_text in answers[\"text\"]:\n",
    "            # 입력: context와 keyword(정답)\n",
    "            inputs.append(f\"context: {context} keyword: {answer_text}\")\n",
    "            # 출력: question\n",
    "            targets.append(question)\n",
    "\n",
    "    return {\"input_text\": inputs, \"target_text\": targets}\n",
    "\n",
    "# 데이터 전처리\n",
    "processed_dataset = train_sampled.map(preprocess_korquad_for_question_generation, batched=True)\n"
   ]
  },
  {
   "cell_type": "code",
   "execution_count": 32,
   "id": "3520bfaa-1c5a-4487-8a47-363b7dec015c",
   "metadata": {},
   "outputs": [
    {
     "name": "stderr",
     "output_type": "stream",
     "text": [
      "Map: 100%|██████████████████████████████████████████████████████████████| 60407/60407 [00:49<00:00, 1220.02 examples/s]\n"
     ]
    }
   ],
   "source": [
    "def tokenize_data(examples):\n",
    "    model_inputs = tokenizer(\n",
    "        examples[\"input_text\"], max_length=512, padding=\"max_length\", truncation=True\n",
    "    )\n",
    "    labels = tokenizer(\n",
    "        examples[\"target_text\"], max_length=128, padding=\"max_length\", truncation=True\n",
    "    )\n",
    "    model_inputs[\"labels\"] = labels[\"input_ids\"]\n",
    "    return model_inputs\n",
    "\n",
    "# 토크나이징\n",
    "tokenized_dataset = processed_dataset.map(tokenize_data, batched=True)\n"
   ]
  },
  {
   "cell_type": "markdown",
   "id": "d9638da6-e9b7-4a2d-b844-67b598d4f912",
   "metadata": {},
   "source": [
    "# 4. 모델링"
   ]
  },
  {
   "cell_type": "code",
   "execution_count": 33,
   "id": "e7a56846-98dc-483d-bc70-abf45271265f",
   "metadata": {},
   "outputs": [],
   "source": [
    "from datasets import DatasetDict\n",
    "\n",
    "# 학습 데이터와 검증 데이터로 분리\n",
    "split_dataset = tokenized_dataset.train_test_split(test_size=0.1)\n",
    "train_dataset = split_dataset[\"train\"]\n",
    "validation_dataset = split_dataset[\"test\"]\n",
    "\n"
   ]
  },
  {
   "cell_type": "code",
   "execution_count": 35,
   "id": "d7ff06c2-c63f-4415-bc6d-3a8fcbec6ba3",
   "metadata": {},
   "outputs": [],
   "source": [
    "training_args = TrainingArguments(\n",
    "    output_dir=\"./kobart_finetuned\",\n",
    "    evaluation_strategy=\"steps\",    # 평가를 steps마다 실행\n",
    "    save_strategy=\"steps\",          # 모델 저장도 steps마다 실행\n",
    "    save_steps=500,                 # 500 스텝마다 저장\n",
    "    eval_steps=500,                 # 500 스텝마다 평가\n",
    "    learning_rate=3e-5,\n",
    "    per_device_train_batch_size=8,\n",
    "    per_device_eval_batch_size=8,\n",
    "    num_train_epochs=3,\n",
    "    weight_decay=0.01,\n",
    "    save_total_limit=2,\n",
    "    logging_dir=\"./logs\",\n",
    "    logging_steps=100,\n",
    "    load_best_model_at_end=True,    # 최적 모델 로드\n",
    ")\n"
   ]
  },
  {
   "cell_type": "code",
   "execution_count": 36,
   "id": "3b56849c-69c7-43b6-9b10-3a4c834c3d4f",
   "metadata": {},
   "outputs": [
    {
     "name": "stderr",
     "output_type": "stream",
     "text": [
      "C:\\Users\\j2982\\AppData\\Local\\Temp\\ipykernel_5832\\2204685869.py:4: FutureWarning: `tokenizer` is deprecated and will be removed in version 5.0.0 for `Trainer.__init__`. Use `processing_class` instead.\n",
      "  trainer = Trainer(\n"
     ]
    }
   ],
   "source": [
    "from transformers import Trainer\n",
    "\n",
    "# Trainer 생성\n",
    "trainer = Trainer(\n",
    "    model=model,\n",
    "    args=training_args,\n",
    "    train_dataset=train_dataset,\n",
    "    eval_dataset=validation_dataset,\n",
    "    tokenizer=tokenizer,\n",
    ")\n"
   ]
  },
  {
   "cell_type": "code",
   "execution_count": null,
   "id": "dd46a75b-3f6b-48a8-a005-e8dfa9b05802",
   "metadata": {},
   "outputs": [],
   "source": [
    "# 학습 시작\n",
    "trainer.train()\n"
   ]
  },
  {
   "cell_type": "code",
   "execution_count": null,
   "id": "dffe5ca9-239d-48be-9aad-f0f23f58c86d",
   "metadata": {},
   "outputs": [],
   "source": []
  },
  {
   "cell_type": "markdown",
   "id": "31e0d865-e6b5-442c-8e06-e6035fd05b13",
   "metadata": {},
   "source": [
    "# 5. 모델 적용"
   ]
  },
  {
   "cell_type": "code",
   "execution_count": 77,
   "id": "494c8cff-fc1b-4a8b-b1ae-14af0ab192db",
   "metadata": {},
   "outputs": [
    {
     "name": "stdout",
     "output_type": "stream",
     "text": [
      "Generated Question: 대한민국의 수도은?\n",
      "Answer: 대한민국\n"
     ]
    }
   ],
   "source": [
    "test_context = \"서울은 대한민국의 수도이다.\"\n",
    "test_keyword = \"대한민국\"\n",
    "\n",
    "# 특별 토큰을 사용한 입력\n",
    "input_text = f\"<context> {test_context} <keyword> {test_keyword}\"\n",
    "input_ids = tokenizer(input_text, return_tensors=\"pt\").input_ids\n",
    "\n",
    "# 모델 추론\n",
    "# 추론 시 설정 개선\n",
    "outputs = model.generate(\n",
    "    input_ids,\n",
    "    max_length=50,             # 출력 최대 길이\n",
    "    num_beams=5,               # Beam Search로 후보 문장 다양성 확보\n",
    "    repetition_penalty=2.5,    # 반복 패널티 추가\n",
    "    no_repeat_ngram_size=2,    # N-gram 반복 방지\n",
    "    early_stopping=True,       # 적절한 시점에 종료\n",
    ")\n",
    "print(\"Generated Question:\", tokenizer.decode(outputs[0], skip_special_tokens=True))\n",
    "print(\"Answer:\", keyword)"
   ]
  },
  {
   "cell_type": "code",
   "execution_count": 70,
   "id": "5f0dd81e-f92e-4924-8524-238d8a07fe6c",
   "metadata": {},
   "outputs": [],
   "source": [
    "#OCR한 데이터를 바탕으로 문단 형태로 슬라이싱 진행 /  context 입력 -> 질문,답변,풀이 제공\n"
   ]
  },
  {
   "cell_type": "code",
   "execution_count": null,
   "id": "f15e7390-8cb4-48fd-b7c7-830ca20d3bb4",
   "metadata": {},
   "outputs": [],
   "source": []
  }
 ],
 "metadata": {
  "kernelspec": {
   "display_name": "Python (gen_que_env)",
   "language": "python",
   "name": "gen_que_env"
  },
  "language_info": {
   "codemirror_mode": {
    "name": "ipython",
    "version": 3
   },
   "file_extension": ".py",
   "mimetype": "text/x-python",
   "name": "python",
   "nbconvert_exporter": "python",
   "pygments_lexer": "ipython3",
   "version": "3.11.5"
  }
 },
 "nbformat": 4,
 "nbformat_minor": 5
}
